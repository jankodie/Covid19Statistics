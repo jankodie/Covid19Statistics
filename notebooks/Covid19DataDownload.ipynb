{
 "cells": [
  {
   "cell_type": "markdown",
   "metadata": {},
   "source": [
    "# Covid-19 Data Download"
   ]
  },
  {
   "cell_type": "code",
   "execution_count": null,
   "metadata": {
    "pycharm": {
     "name": "#%%\n"
    }
   },
   "outputs": [],
   "source": [
    "import pandas as pd\n",
    "from IPython.display import display, HTML\n",
    "import io\n",
    "import base64"
   ]
  },
  {
   "cell_type": "markdown",
   "metadata": {},
   "source": [
    "## Load the Data"
   ]
  },
  {
   "cell_type": "code",
   "execution_count": null,
   "metadata": {
    "pycharm": {
     "name": "#%%\n"
    }
   },
   "outputs": [],
   "source": [
    "covid_case_data_url = \"https://raw.githubusercontent.com/CSSEGISandData/COVID-19/master/csse_covid_19_data/csse_covid_19_time_series/time_series_covid19_confirmed_global.csv\"\n",
    "case_data = pd.read_csv(covid_case_data_url)\n",
    "covid_death_data_url = \"https://raw.githubusercontent.com/CSSEGISandData/COVID-19/master/csse_covid_19_data/csse_covid_19_time_series/time_series_covid19_deaths_global.csv\"\n",
    "death_data = pd.read_csv(covid_death_data_url)"
   ]
  },
  {
   "cell_type": "markdown",
   "metadata": {},
   "source": [
    "## Collect Data of selected Countries"
   ]
  },
  {
   "cell_type": "code",
   "execution_count": null,
   "metadata": {
    "pycharm": {
     "name": "#%%\n"
    }
   },
   "outputs": [],
   "source": [
    "country_sequence = ['US', 'China','United Kingdom', 'Germany', 'Italy', 'Spain', 'Russia', 'France',\n",
    "                    'Switzerland', 'Austria', 'Brazil', 'India', 'Vietnam', 'World', 'Sweden', 'Israel',\n",
    "                    'Belgium', 'Netherlands', 'Denmark', 'Finland', 'Norway', 'Poland', 'Czechia',\n",
    "                    'Hungary', 'Slovakia', 'Canada', 'Mexico', 'Argentina', 'Bolivia', 'Chile', 'Ecuador',\n",
    "                    'Guyana', 'Colombia', 'Paraguay', 'Peru', 'Suriname', 'Uruguay', 'Venezuela',\n",
    "                    'Haiti', 'Guatemala']\n",
    "\n",
    "countries = ['US', 'China','United Kingdom', 'Germany', 'Italy', 'Spain', 'Russia', 'France',\n",
    "             'Switzerland', 'Austria', 'Brazil', 'India', 'Vietnam', 'Sweden', 'Israel',\n",
    "             'Hungary', 'Slovakia', 'Canada', 'Mexico', 'Argentina', 'Bolivia', 'Chile', 'Ecuador',\n",
    "             'Guyana', 'Colombia', 'Paraguay', 'Peru', 'Suriname', 'Uruguay', 'Venezuela',\n",
    "             'Haiti', 'Guatemala']\n",
    "\n",
    "def select_data(data_src, selected_countries):\n",
    "    data = data_src.copy(deep=True)\n",
    "    dat = data.iloc[:,4:]\n",
    "    world = ['','World',0.0,0.0] + list(dat.sum(axis=0))\n",
    "    data.loc[len(data)] = world\n",
    "    days = list(data.columns[4:])\n",
    "    values = {\"Dates\": days}\n",
    "    selected_data = pd.DataFrame(values, columns = [\"Dates\"])\n",
    "    selected_data['Days'] = pd.to_datetime(selected_data['Dates'], format='%m/%d/%y')\n",
    "    selected_data.drop('Dates',axis=1,inplace=True)\n",
    "    vals = data.loc[data['Country/Region'].isin(selected_countries)].drop(['Province/State','Long','Lat'],axis='columns')\n",
    "    vals = vals.groupby('Country/Region').sum().transpose()\n",
    "    vals.reset_index(drop=True, inplace=True)\n",
    "    res = pd.concat([selected_data,vals],axis=1)\n",
    "    res.set_index('Days',inplace=True)\n",
    "    return res\n",
    "\n",
    "\n",
    "set_of_countries = set(country_sequence)\n",
    "case_sel_data = select_data(case_data, set_of_countries)\n",
    "death_sel_data= select_data(death_data, set_of_countries)\n",
    "last_day = case_sel_data.index[-1].strftime('%d-%b-%Y')"
   ]
  },
  {
   "cell_type": "markdown",
   "metadata": {},
   "source": [
    "## Create Download-Links for the Data of the last Day for selected Countries"
   ]
  },
  {
   "cell_type": "code",
   "execution_count": null,
   "metadata": {
    "pycharm": {
     "name": "#%%\n"
    }
   },
   "outputs": [],
   "source": [
    "def get_df_last_day_data(data,prefix = ''):\n",
    "    last_day = data.index[-1].strftime('%d-%b-%Y')\n",
    "    last_day_data_dict =  {\n",
    "        f'{prefix} kumulativ {last_day}': data.iloc[-1],\n",
    "        f'{prefix} pro Tag {last_day}': data.diff().iloc[-1]\n",
    "    }\n",
    "    last_day_data = pd.DataFrame(last_day_data_dict)\n",
    "    return last_day_data\n",
    "\n",
    "\n",
    "sorterIndex = dict(zip(country_sequence, range(len(country_sequence))))\n",
    "\n",
    "\n",
    "result = pd.concat([get_df_last_day_data(case_sel_data,\"Infizierte\"),\n",
    "                    get_df_last_day_data(death_sel_data,\"Tote\")],axis=1)\n",
    "result['country_rank'] = result.index.map(sorterIndex)\n",
    "result.sort_values('country_rank',inplace=True)\n",
    "result.drop('country_rank', 1, inplace = True)\n",
    "res = result.stack()\n",
    "\n",
    "def create_download_link_excel( df, title = \"Download Excel file\", filename = \"data.xls\"):\n",
    "    output = io.BytesIO()\n",
    "    writer = pd.ExcelWriter(output, engine='xlsxwriter')\n",
    "    df.to_excel(writer, sheet_name='Sheet1')\n",
    "    writer.save()\n",
    "    xlsx_data = output.getvalue()\n",
    "    b64 = base64.b64encode(xlsx_data)\n",
    "    payload = b64.decode()\n",
    "    html = '<a download=\"{filename}\" href=\"data:application/vnd.openxmlformats-officedocument.spreadsheetml.sheet;base64,{payload}\" target=\"_blank\">{title}</a>'\n",
    "    html = html.format(payload=payload,title=title,filename=filename)\n",
    "    return HTML(html)\n",
    "\n",
    "create_download_link_excel(res, f\"Download Data for {last_day}\", f\"data_{last_day}.xlsx\")"
   ]
  }
 ],
 "metadata": {
  "kernelspec": {
   "display_name": "PyCharm (Covid19Statistik)",
   "language": "python",
   "name": "pycharm-bd365e50"
  },
  "language_info": {
   "codemirror_mode": {
    "name": "ipython",
    "version": 3
   },
   "file_extension": ".py",
   "mimetype": "text/x-python",
   "name": "python",
   "nbconvert_exporter": "python",
   "pygments_lexer": "ipython3",
   "version": "3.8.6"
  }
 },
 "nbformat": 4,
 "nbformat_minor": 1
}
