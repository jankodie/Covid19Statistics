{
 "cells": [
  {
   "cell_type": "markdown",
   "metadata": {
    "collapsed": true,
    "pycharm": {
     "name": "#%% md\n"
    }
   },
   "source": [
    "# Covid-19 Data"
   ]
  },
  {
   "cell_type": "code",
   "execution_count": null,
   "metadata": {
    "pycharm": {
     "name": "#%%\n"
    }
   },
   "outputs": [],
   "source": [
    "import pandas as pd\n",
    "from IPython.display import display\n",
    "import ipywidgets as widgets\n",
    "import matplotlib.pyplot as plt\n",
    "import seaborn as sns\n",
    "sns.set_theme(style=\"darkgrid\")"
   ]
  },
  {
   "cell_type": "markdown",
   "metadata": {
    "pycharm": {
     "name": "#%% md\n"
    }
   },
   "source": [
    "## Load the Data\n",
    "\n",
    "For cases:"
   ]
  },
  {
   "cell_type": "code",
   "execution_count": null,
   "metadata": {
    "pycharm": {
     "name": "#%%\n"
    }
   },
   "outputs": [],
   "source": [
    "covid_case_data_url = \"https://raw.githubusercontent.com/CSSEGISandData/COVID-19/master/csse_covid_19_data/csse_covid_19_time_series/time_series_covid19_confirmed_global.csv\"\n",
    "case_data = pd.read_csv(covid_case_data_url)\n",
    "case_data"
   ]
  },
  {
   "cell_type": "markdown",
   "metadata": {
    "pycharm": {
     "name": "#%% md\n"
    }
   },
   "source": [
    "For deaths:"
   ]
  },
  {
   "cell_type": "code",
   "execution_count": null,
   "metadata": {
    "pycharm": {
     "name": "#%%\n"
    }
   },
   "outputs": [],
   "source": [
    "covid_death_data_url = \"https://raw.githubusercontent.com/CSSEGISandData/COVID-19/master/csse_covid_19_data/csse_covid_19_time_series/time_series_covid19_deaths_global.csv\"\n",
    "death_data = pd.read_csv(covid_death_data_url)\n",
    "death_data"
   ]
  },
  {
   "cell_type": "markdown",
   "metadata": {
    "pycharm": {
     "name": "#%% md\n"
    }
   },
   "source": [
    "## Collect Data of selected Countries"
   ]
  },
  {
   "cell_type": "code",
   "execution_count": null,
   "metadata": {
    "pycharm": {
     "name": "#%%\n"
    }
   },
   "outputs": [],
   "source": [
    "def select_data(data, selected_countries):\n",
    "    days = list(data.columns[4:])\n",
    "    values = {\"Dates\": days}\n",
    "    selected_data = pd.DataFrame(values, columns = [\"Dates\"])\n",
    "    selected_data['Days'] = pd.to_datetime(selected_data['Dates'], format='%m/%d/%y')\n",
    "    selected_data.drop('Dates',axis=1,inplace=True)\n",
    "    vals = data.loc[case_data['Country/Region'].isin(selected_countries)].drop(['Province/State','Long','Lat'],axis='columns')\n",
    "    vals = vals.groupby('Country/Region').sum().transpose()\n",
    "    vals.reset_index(drop=True, inplace=True)\n",
    "    res = pd.concat([selected_data,vals],axis=1)\n",
    "    res.set_index('Days',inplace=True)\n",
    "    return res\n",
    "\n",
    "\n",
    "country_selector = widgets.SelectMultiple(\n",
    "    options=sorted(set(case_data['Country/Region'])),\n",
    "    value=['Germany'],\n",
    "    rows=10,\n",
    "    description='Countries:',\n",
    "    disabled=False\n",
    ")\n",
    "\n",
    "button = widgets.Button(\n",
    "    description='Select Data',\n",
    "    disabled=False,\n",
    "    button_style='', # 'success', 'info', 'warning', 'danger' or ''\n",
    "    tooltip='Click to start selection of data',\n",
    "    icon='check' # (FontAwesome names without the `fa-` prefix)\n",
    ")\n",
    "\n",
    "#selected_countries = {'Germany','Australia'}\n",
    "case_sel_data = 0\n",
    "death_sel_data = 0\n",
    "\n",
    "def start_selection(a):\n",
    "    countries = set(country_selector.value)\n",
    "    global case_sel_data\n",
    "    case_sel_data = select_data(case_data, countries)\n",
    "    global death_sel_data\n",
    "    death_sel_data= select_data(death_data, countries)\n",
    "\n",
    "button.on_click(start_selection)\n",
    "\n",
    "display(country_selector)\n",
    "display(button)"
   ]
  },
  {
   "cell_type": "code",
   "execution_count": null,
   "metadata": {
    "pycharm": {
     "name": "#%%\n"
    }
   },
   "outputs": [],
   "source": [
    "case_sel_data"
   ]
  },
  {
   "cell_type": "code",
   "execution_count": null,
   "metadata": {
    "pycharm": {
     "name": "#%%\n"
    }
   },
   "outputs": [],
   "source": [
    "death_sel_data"
   ]
  },
  {
   "cell_type": "markdown",
   "metadata": {
    "pycharm": {
     "name": "#%% md\n"
    }
   },
   "source": [
    "## Plot the selected Data"
   ]
  },
  {
   "cell_type": "code",
   "execution_count": null,
   "metadata": {
    "pycharm": {
     "name": "#%%\n"
    }
   },
   "outputs": [],
   "source": [
    "def plot_selected_time_range(date_range):\n",
    "    start,end = date_range\n",
    "    sub = case_sel_data[start:end]\n",
    "    fig, ax =plt.subplots(2,1)\n",
    "    sns.lineplot(data = sub, dashes=False,ax=ax[0])\n",
    "    sns.lineplot(data = sub.diff(), dashes=False,ax=ax[1])\n",
    "    fig.suptitle(\"Covid19 Cases\")\n",
    "    fig.show()\n",
    "\n",
    "options = [(i.strftime(' %d %b %y '), i) for i in case_sel_data.index]\n",
    "slider = widgets.SelectionRangeSlider(\n",
    "    options=options,\n",
    "    index=(0, len(case_sel_data.index)-1),\n",
    "    description='Range:',\n",
    "    disabled=False\n",
    ")\n",
    "\n",
    "widgets.interactive(plot_selected_time_range, date_range = slider)"
   ]
  },
  {
   "cell_type": "code",
   "execution_count": null,
   "metadata": {
    "pycharm": {
     "name": "#%%\n"
    }
   },
   "outputs": [],
   "source": [
    "def plot_selected_time_range(date_range):\n",
    "    start,end = date_range\n",
    "    sub = death_sel_data[start:end]\n",
    "    fig, ax =plt.subplots(2,1)\n",
    "    sns.lineplot(data = sub, dashes=False,ax=ax[0])\n",
    "    sns.lineplot(data = sub.diff(), dashes=False,ax=ax[1])\n",
    "    fig.suptitle(\"Covid19 Death Rates\")\n",
    "    fig.show()\n",
    "\n",
    "options = [(i.strftime(' %d %b %y '), i) for i in death_sel_data.index]\n",
    "slider = widgets.SelectionRangeSlider(\n",
    "    options=options,\n",
    "    index=(0, len(death_sel_data.index)-1),\n",
    "    description='Range:',\n",
    "    disabled=False\n",
    ")\n",
    "\n",
    "widgets.interactive(plot_selected_time_range, date_range = slider)"
   ]
  },
  {
   "cell_type": "markdown",
   "metadata": {
    "pycharm": {
     "name": "#%% md\n"
    }
   },
   "source": [
    "## Save the Data of the last Day for selected Countries\n",
    "\n",
    "If you run the notebook locally"
   ]
  },
  {
   "cell_type": "code",
   "execution_count": null,
   "metadata": {
    "pycharm": {
     "name": "#%%\n"
    }
   },
   "outputs": [],
   "source": [
    "def save_last_day_data(path, kind, data):\n",
    "    last_day = data.index[-1].strftime('%d-%b-%Y')\n",
    "    last_day_data_dict =  {\n",
    "        f'Cum {last_day}': data.iloc[-1],\n",
    "        f'Diff {last_day}': data.diff().iloc[-1]\n",
    "    }\n",
    "    last_day_data = pd.DataFrame(last_day_data_dict)\n",
    "    writer = pd.ExcelWriter(f'{path}/Covid19_Data_{kind}_{last_day}.xlsx', engine='xlsxwriter')\n",
    "    last_day_data.to_excel(writer, sheet_name='Sheet1')\n",
    "    writer.save()\n",
    "\n",
    "path = input(\"Path to save the File (C:/path/to/target/folder):\")\n",
    "if path != '':\n",
    "    save_last_day_data(path, \"Cases\", case_sel_data)\n",
    "    save_last_day_data(path, \"Deaths\", death_sel_data)"
   ]
  },
  {
   "cell_type": "markdown",
   "metadata": {
    "pycharm": {
     "name": "#%% md\n"
    }
   },
   "source": [
    "## Create Download-Links for the Data of the last Day for selected Countries\n",
    "\n",
    "If you run the notebook via Binder"
   ]
  },
  {
   "cell_type": "code",
   "execution_count": null,
   "metadata": {
    "pycharm": {
     "name": "#%%\n"
    }
   },
   "outputs": [],
   "source": [
    "from IPython.display import HTML\n",
    "import io\n",
    "import base64\n",
    "\n",
    "def get_df_last_day_data(data):\n",
    "    last_day = data.index[-1].strftime('%d-%b-%Y')\n",
    "    last_day_data_dict =  {\n",
    "        f'Cum {last_day}': data.iloc[-1],\n",
    "        f'Diff {last_day}': data.diff().iloc[-1]\n",
    "    }\n",
    "    last_day_data = pd.DataFrame(last_day_data_dict)\n",
    "    return last_day_data\n",
    "\n",
    "def create_download_link_excel( df, title = \"Download Excel file\", filename = \"data.xls\"):\n",
    "    output = io.BytesIO()\n",
    "    writer = pd.ExcelWriter(output, engine='xlsxwriter')\n",
    "    df.to_excel(writer, sheet_name='Sheet1')\n",
    "    writer.save()\n",
    "    xlsx_data = output.getvalue()\n",
    "    b64 = base64.b64encode(xlsx_data)\n",
    "    payload = b64.decode()\n",
    "    html = '<a download=\"{filename}\" href=\"data:application/vnd.openxmlformats-officedocument.spreadsheetml.sheet;base64,{payload}\" target=\"_blank\">{title}</a>'\n",
    "    html = html.format(payload=payload,title=title,filename=filename)\n",
    "    return html\n",
    "\n",
    "def create_download_link( df, title = \"Download CSV file\", filename = \"data.csv\"):\n",
    "    csv = df.to_csv()\n",
    "    b64 = base64.b64encode(csv.encode())\n",
    "    payload = b64.decode()\n",
    "    html = '<a download=\"{filename}\" href=\"data:text/csv;base64,{payload}\" target=\"_blank\">{title}</a>'\n",
    "    html = html.format(payload=payload,title=title,filename=filename)\n",
    "    return html\n",
    "\n",
    "HTML(\"\"\"\n",
    "<p> Download of selected Data of the last Day</p>\n",
    "<table>\n",
    "  <tr>\n",
    "    <th></th> <th>Cases</th> <th>Deaths</th>\n",
    "  </tr>\n",
    "  <tr>\n",
    "    <td>CSV:</td> <td>{csv_cases}</td> <td>{csv_deaths}</td>\n",
    "  </tr>\n",
    "  <tr>\n",
    "    <td>XLSX:</td> <td>{xlsx_cases}</td> <td>{xlsx_deaths}</td>\n",
    "  </tr>\n",
    "</table>\"\"\".format(csv_cases = create_download_link(get_df_last_day_data(case_sel_data), \"Cases CSV\", \"cases_data.csv\"),\n",
    "                   xlsx_cases = create_download_link_excel(get_df_last_day_data(case_sel_data), \"Cases XLSX\", \"cases_data.xlsx\"),\n",
    "                   csv_deaths = create_download_link(get_df_last_day_data(death_sel_data), \"Deaths CSV\", \"deaths_data.csv\"),\n",
    "                   xlsx_deaths = create_download_link_excel(get_df_last_day_data(death_sel_data), \"Deaths XLSX\", \"deaths_data.xlsx\")\n",
    "                  ))"
   ]
  }
 ],
 "metadata": {
  "kernelspec": {
   "display_name": "PyCharm (Covid19Statistik)",
   "language": "python",
   "name": "pycharm-bd365e50"
  },
  "language_info": {
   "codemirror_mode": {
    "name": "ipython",
    "version": 3
   },
   "file_extension": ".py",
   "mimetype": "text/x-python",
   "name": "python",
   "nbconvert_exporter": "python",
   "pygments_lexer": "ipython3",
   "version": "3.8.6"
  }
 },
 "nbformat": 4,
 "nbformat_minor": 1
}
