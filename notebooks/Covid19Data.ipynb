{
 "cells": [
  {
   "cell_type": "markdown",
   "metadata": {
    "collapsed": true,
    "pycharm": {
     "name": "#%% md\n"
    }
   },
   "source": [
    "# Covid-19 Data"
   ]
  },
  {
   "cell_type": "code",
   "source": [
    "import pandas as pd\n",
    "from IPython.display import display\n",
    "import ipywidgets as widgets\n",
    "import matplotlib.pyplot as plt\n",
    "import seaborn as sns\n",
    "sns.set_theme(style=\"darkgrid\")"
   ],
   "metadata": {
    "collapsed": false,
    "pycharm": {
     "name": "#%%\n"
    }
   },
   "execution_count": 1,
   "outputs": []
  },
  {
   "cell_type": "markdown",
   "source": [
    "## Load the Data\n",
    "\n",
    "For cases:"
   ],
   "metadata": {
    "collapsed": false,
    "pycharm": {
     "name": "#%% md\n"
    }
   }
  },
  {
   "cell_type": "code",
   "execution_count": 2,
   "outputs": [
    {
     "data": {
      "text/plain": "    Province/State      Country/Region        Lat        Long  1/22/20  \\\n0              NaN         Afghanistan  33.939110   67.709953        0   \n1              NaN             Albania  41.153300   20.168300        0   \n2              NaN             Algeria  28.033900    1.659600        0   \n3              NaN             Andorra  42.506300    1.521800        0   \n4              NaN              Angola -11.202700   17.873900        0   \n..             ...                 ...        ...         ...      ...   \n268            NaN             Vietnam  14.058324  108.277199        0   \n269            NaN  West Bank and Gaza  31.952200   35.233200        0   \n270            NaN               Yemen  15.552727   48.516388        0   \n271            NaN              Zambia -13.133897   27.849332        0   \n272            NaN            Zimbabwe -19.015438   29.154857        0   \n\n     1/23/20  1/24/20  1/25/20  1/26/20  1/27/20  ...  2/7/21  2/8/21  2/9/21  \\\n0          0        0        0        0        0  ...   55335   55359   55384   \n1          0        0        0        0        0  ...   85336   86289   87528   \n2          0        0        0        0        0  ...  109088  109313  109559   \n3          0        0        0        0        0  ...   10251   10275   10312   \n4          0        0        0        0        0  ...   20086   20112   20163   \n..       ...      ...      ...      ...      ...  ...     ...     ...     ...   \n268        2        2        2        2        2  ...    2001    2050    2064   \n269        0        0        0        0        0  ...  162601  163213  163975   \n270        0        0        0        0        0  ...    2127    2131    2131   \n271        0        0        0        0        0  ...   62633   63573   64610   \n272        0        0        0        0        0  ...   34552   34658   34781   \n\n     2/10/21  2/11/21  2/12/21  2/13/21  2/14/21  2/15/21  2/16/21  \n0      55402    55420    55445    55473    55492    55514    55518  \n1      88671    89776    90835    91987    93075    93850    94651  \n2     109782   110049   110303   110513   110711   110894   111069  \n3      10352    10391    10427    10463    10503    10538    10555  \n4      20210    20261    20294    20329    20366    20381    20389  \n..       ...      ...      ...      ...      ...      ...      ...  \n268     2091     2140     2142     2195     2228     2269     2311  \n269   164736   165535   166200   166800   167604   168444   169487  \n270     2133     2134     2136     2136     2145     2145     2148  \n271    65573    66598    67681    68454    69437    70248    70823  \n272    34864    34864    35045    35104    35172    35222    35315  \n\n[273 rows x 396 columns]",
      "text/html": "<div>\n<style scoped>\n    .dataframe tbody tr th:only-of-type {\n        vertical-align: middle;\n    }\n\n    .dataframe tbody tr th {\n        vertical-align: top;\n    }\n\n    .dataframe thead th {\n        text-align: right;\n    }\n</style>\n<table border=\"1\" class=\"dataframe\">\n  <thead>\n    <tr style=\"text-align: right;\">\n      <th></th>\n      <th>Province/State</th>\n      <th>Country/Region</th>\n      <th>Lat</th>\n      <th>Long</th>\n      <th>1/22/20</th>\n      <th>1/23/20</th>\n      <th>1/24/20</th>\n      <th>1/25/20</th>\n      <th>1/26/20</th>\n      <th>1/27/20</th>\n      <th>...</th>\n      <th>2/7/21</th>\n      <th>2/8/21</th>\n      <th>2/9/21</th>\n      <th>2/10/21</th>\n      <th>2/11/21</th>\n      <th>2/12/21</th>\n      <th>2/13/21</th>\n      <th>2/14/21</th>\n      <th>2/15/21</th>\n      <th>2/16/21</th>\n    </tr>\n  </thead>\n  <tbody>\n    <tr>\n      <th>0</th>\n      <td>NaN</td>\n      <td>Afghanistan</td>\n      <td>33.939110</td>\n      <td>67.709953</td>\n      <td>0</td>\n      <td>0</td>\n      <td>0</td>\n      <td>0</td>\n      <td>0</td>\n      <td>0</td>\n      <td>...</td>\n      <td>55335</td>\n      <td>55359</td>\n      <td>55384</td>\n      <td>55402</td>\n      <td>55420</td>\n      <td>55445</td>\n      <td>55473</td>\n      <td>55492</td>\n      <td>55514</td>\n      <td>55518</td>\n    </tr>\n    <tr>\n      <th>1</th>\n      <td>NaN</td>\n      <td>Albania</td>\n      <td>41.153300</td>\n      <td>20.168300</td>\n      <td>0</td>\n      <td>0</td>\n      <td>0</td>\n      <td>0</td>\n      <td>0</td>\n      <td>0</td>\n      <td>...</td>\n      <td>85336</td>\n      <td>86289</td>\n      <td>87528</td>\n      <td>88671</td>\n      <td>89776</td>\n      <td>90835</td>\n      <td>91987</td>\n      <td>93075</td>\n      <td>93850</td>\n      <td>94651</td>\n    </tr>\n    <tr>\n      <th>2</th>\n      <td>NaN</td>\n      <td>Algeria</td>\n      <td>28.033900</td>\n      <td>1.659600</td>\n      <td>0</td>\n      <td>0</td>\n      <td>0</td>\n      <td>0</td>\n      <td>0</td>\n      <td>0</td>\n      <td>...</td>\n      <td>109088</td>\n      <td>109313</td>\n      <td>109559</td>\n      <td>109782</td>\n      <td>110049</td>\n      <td>110303</td>\n      <td>110513</td>\n      <td>110711</td>\n      <td>110894</td>\n      <td>111069</td>\n    </tr>\n    <tr>\n      <th>3</th>\n      <td>NaN</td>\n      <td>Andorra</td>\n      <td>42.506300</td>\n      <td>1.521800</td>\n      <td>0</td>\n      <td>0</td>\n      <td>0</td>\n      <td>0</td>\n      <td>0</td>\n      <td>0</td>\n      <td>...</td>\n      <td>10251</td>\n      <td>10275</td>\n      <td>10312</td>\n      <td>10352</td>\n      <td>10391</td>\n      <td>10427</td>\n      <td>10463</td>\n      <td>10503</td>\n      <td>10538</td>\n      <td>10555</td>\n    </tr>\n    <tr>\n      <th>4</th>\n      <td>NaN</td>\n      <td>Angola</td>\n      <td>-11.202700</td>\n      <td>17.873900</td>\n      <td>0</td>\n      <td>0</td>\n      <td>0</td>\n      <td>0</td>\n      <td>0</td>\n      <td>0</td>\n      <td>...</td>\n      <td>20086</td>\n      <td>20112</td>\n      <td>20163</td>\n      <td>20210</td>\n      <td>20261</td>\n      <td>20294</td>\n      <td>20329</td>\n      <td>20366</td>\n      <td>20381</td>\n      <td>20389</td>\n    </tr>\n    <tr>\n      <th>...</th>\n      <td>...</td>\n      <td>...</td>\n      <td>...</td>\n      <td>...</td>\n      <td>...</td>\n      <td>...</td>\n      <td>...</td>\n      <td>...</td>\n      <td>...</td>\n      <td>...</td>\n      <td>...</td>\n      <td>...</td>\n      <td>...</td>\n      <td>...</td>\n      <td>...</td>\n      <td>...</td>\n      <td>...</td>\n      <td>...</td>\n      <td>...</td>\n      <td>...</td>\n      <td>...</td>\n    </tr>\n    <tr>\n      <th>268</th>\n      <td>NaN</td>\n      <td>Vietnam</td>\n      <td>14.058324</td>\n      <td>108.277199</td>\n      <td>0</td>\n      <td>2</td>\n      <td>2</td>\n      <td>2</td>\n      <td>2</td>\n      <td>2</td>\n      <td>...</td>\n      <td>2001</td>\n      <td>2050</td>\n      <td>2064</td>\n      <td>2091</td>\n      <td>2140</td>\n      <td>2142</td>\n      <td>2195</td>\n      <td>2228</td>\n      <td>2269</td>\n      <td>2311</td>\n    </tr>\n    <tr>\n      <th>269</th>\n      <td>NaN</td>\n      <td>West Bank and Gaza</td>\n      <td>31.952200</td>\n      <td>35.233200</td>\n      <td>0</td>\n      <td>0</td>\n      <td>0</td>\n      <td>0</td>\n      <td>0</td>\n      <td>0</td>\n      <td>...</td>\n      <td>162601</td>\n      <td>163213</td>\n      <td>163975</td>\n      <td>164736</td>\n      <td>165535</td>\n      <td>166200</td>\n      <td>166800</td>\n      <td>167604</td>\n      <td>168444</td>\n      <td>169487</td>\n    </tr>\n    <tr>\n      <th>270</th>\n      <td>NaN</td>\n      <td>Yemen</td>\n      <td>15.552727</td>\n      <td>48.516388</td>\n      <td>0</td>\n      <td>0</td>\n      <td>0</td>\n      <td>0</td>\n      <td>0</td>\n      <td>0</td>\n      <td>...</td>\n      <td>2127</td>\n      <td>2131</td>\n      <td>2131</td>\n      <td>2133</td>\n      <td>2134</td>\n      <td>2136</td>\n      <td>2136</td>\n      <td>2145</td>\n      <td>2145</td>\n      <td>2148</td>\n    </tr>\n    <tr>\n      <th>271</th>\n      <td>NaN</td>\n      <td>Zambia</td>\n      <td>-13.133897</td>\n      <td>27.849332</td>\n      <td>0</td>\n      <td>0</td>\n      <td>0</td>\n      <td>0</td>\n      <td>0</td>\n      <td>0</td>\n      <td>...</td>\n      <td>62633</td>\n      <td>63573</td>\n      <td>64610</td>\n      <td>65573</td>\n      <td>66598</td>\n      <td>67681</td>\n      <td>68454</td>\n      <td>69437</td>\n      <td>70248</td>\n      <td>70823</td>\n    </tr>\n    <tr>\n      <th>272</th>\n      <td>NaN</td>\n      <td>Zimbabwe</td>\n      <td>-19.015438</td>\n      <td>29.154857</td>\n      <td>0</td>\n      <td>0</td>\n      <td>0</td>\n      <td>0</td>\n      <td>0</td>\n      <td>0</td>\n      <td>...</td>\n      <td>34552</td>\n      <td>34658</td>\n      <td>34781</td>\n      <td>34864</td>\n      <td>34864</td>\n      <td>35045</td>\n      <td>35104</td>\n      <td>35172</td>\n      <td>35222</td>\n      <td>35315</td>\n    </tr>\n  </tbody>\n</table>\n<p>273 rows × 396 columns</p>\n</div>"
     },
     "execution_count": 2,
     "metadata": {},
     "output_type": "execute_result"
    }
   ],
   "source": [
    "covid_case_data_url = \"https://raw.githubusercontent.com/CSSEGISandData/COVID-19/master/csse_covid_19_data/csse_covid_19_time_series/time_series_covid19_confirmed_global.csv\"\n",
    "case_data = pd.read_csv(covid_case_data_url)\n",
    "case_data"
   ],
   "metadata": {
    "collapsed": false,
    "pycharm": {
     "name": "#%%\n"
    }
   }
  },
  {
   "cell_type": "markdown",
   "source": [
    "For deaths:"
   ],
   "metadata": {
    "collapsed": false,
    "pycharm": {
     "name": "#%% md\n"
    }
   }
  },
  {
   "cell_type": "code",
   "execution_count": 3,
   "outputs": [
    {
     "data": {
      "text/plain": "    Province/State      Country/Region        Lat        Long  1/22/20  \\\n0              NaN         Afghanistan  33.939110   67.709953        0   \n1              NaN             Albania  41.153300   20.168300        0   \n2              NaN             Algeria  28.033900    1.659600        0   \n3              NaN             Andorra  42.506300    1.521800        0   \n4              NaN              Angola -11.202700   17.873900        0   \n..             ...                 ...        ...         ...      ...   \n268            NaN             Vietnam  14.058324  108.277199        0   \n269            NaN  West Bank and Gaza  31.952200   35.233200        0   \n270            NaN               Yemen  15.552727   48.516388        0   \n271            NaN              Zambia -13.133897   27.849332        0   \n272            NaN            Zimbabwe -19.015438   29.154857        0   \n\n     1/23/20  1/24/20  1/25/20  1/26/20  1/27/20  ...  2/7/21  2/8/21  2/9/21  \\\n0          0        0        0        0        0  ...    2410    2413    2414   \n1          0        0        0        0        0  ...    1460    1472    1488   \n2          0        0        0        0        0  ...    2914    2918    2924   \n3          0        0        0        0        0  ...     106     106     106   \n4          0        0        0        0        0  ...     475     475     478   \n..       ...      ...      ...      ...      ...  ...     ...     ...     ...   \n268        0        0        0        0        0  ...      35      35      35   \n269        0        0        0        0        0  ...    1881    1888    1897   \n270        0        0        0        0        0  ...     615     615     615   \n271        0        0        0        0        0  ...     853     869     881   \n272        0        0        0        0        0  ...    1326    1339    1353   \n\n     2/10/21  2/11/21  2/12/21  2/13/21  2/14/21  2/15/21  2/16/21  \n0       2418     2419     2424     2427     2427     2427     2428  \n1       1503     1517     1531     1543     1555     1567     1582  \n2       2926     2930     2932     2935     2939     2943     2945  \n3        106      106      106      107      107      107      107  \n4        487      487      490      491      492      493      494  \n..       ...      ...      ...      ...      ...      ...      ...  \n268       35       35       35       35       35       35       35  \n269     1909     1910     1918     1930     1933     1936     1942  \n270      616      616      616      616      617      617      618  \n271      901      914      931      940      951      959      974  \n272     1364     1364     1393     1398     1400     1410     1414  \n\n[273 rows x 396 columns]",
      "text/html": "<div>\n<style scoped>\n    .dataframe tbody tr th:only-of-type {\n        vertical-align: middle;\n    }\n\n    .dataframe tbody tr th {\n        vertical-align: top;\n    }\n\n    .dataframe thead th {\n        text-align: right;\n    }\n</style>\n<table border=\"1\" class=\"dataframe\">\n  <thead>\n    <tr style=\"text-align: right;\">\n      <th></th>\n      <th>Province/State</th>\n      <th>Country/Region</th>\n      <th>Lat</th>\n      <th>Long</th>\n      <th>1/22/20</th>\n      <th>1/23/20</th>\n      <th>1/24/20</th>\n      <th>1/25/20</th>\n      <th>1/26/20</th>\n      <th>1/27/20</th>\n      <th>...</th>\n      <th>2/7/21</th>\n      <th>2/8/21</th>\n      <th>2/9/21</th>\n      <th>2/10/21</th>\n      <th>2/11/21</th>\n      <th>2/12/21</th>\n      <th>2/13/21</th>\n      <th>2/14/21</th>\n      <th>2/15/21</th>\n      <th>2/16/21</th>\n    </tr>\n  </thead>\n  <tbody>\n    <tr>\n      <th>0</th>\n      <td>NaN</td>\n      <td>Afghanistan</td>\n      <td>33.939110</td>\n      <td>67.709953</td>\n      <td>0</td>\n      <td>0</td>\n      <td>0</td>\n      <td>0</td>\n      <td>0</td>\n      <td>0</td>\n      <td>...</td>\n      <td>2410</td>\n      <td>2413</td>\n      <td>2414</td>\n      <td>2418</td>\n      <td>2419</td>\n      <td>2424</td>\n      <td>2427</td>\n      <td>2427</td>\n      <td>2427</td>\n      <td>2428</td>\n    </tr>\n    <tr>\n      <th>1</th>\n      <td>NaN</td>\n      <td>Albania</td>\n      <td>41.153300</td>\n      <td>20.168300</td>\n      <td>0</td>\n      <td>0</td>\n      <td>0</td>\n      <td>0</td>\n      <td>0</td>\n      <td>0</td>\n      <td>...</td>\n      <td>1460</td>\n      <td>1472</td>\n      <td>1488</td>\n      <td>1503</td>\n      <td>1517</td>\n      <td>1531</td>\n      <td>1543</td>\n      <td>1555</td>\n      <td>1567</td>\n      <td>1582</td>\n    </tr>\n    <tr>\n      <th>2</th>\n      <td>NaN</td>\n      <td>Algeria</td>\n      <td>28.033900</td>\n      <td>1.659600</td>\n      <td>0</td>\n      <td>0</td>\n      <td>0</td>\n      <td>0</td>\n      <td>0</td>\n      <td>0</td>\n      <td>...</td>\n      <td>2914</td>\n      <td>2918</td>\n      <td>2924</td>\n      <td>2926</td>\n      <td>2930</td>\n      <td>2932</td>\n      <td>2935</td>\n      <td>2939</td>\n      <td>2943</td>\n      <td>2945</td>\n    </tr>\n    <tr>\n      <th>3</th>\n      <td>NaN</td>\n      <td>Andorra</td>\n      <td>42.506300</td>\n      <td>1.521800</td>\n      <td>0</td>\n      <td>0</td>\n      <td>0</td>\n      <td>0</td>\n      <td>0</td>\n      <td>0</td>\n      <td>...</td>\n      <td>106</td>\n      <td>106</td>\n      <td>106</td>\n      <td>106</td>\n      <td>106</td>\n      <td>106</td>\n      <td>107</td>\n      <td>107</td>\n      <td>107</td>\n      <td>107</td>\n    </tr>\n    <tr>\n      <th>4</th>\n      <td>NaN</td>\n      <td>Angola</td>\n      <td>-11.202700</td>\n      <td>17.873900</td>\n      <td>0</td>\n      <td>0</td>\n      <td>0</td>\n      <td>0</td>\n      <td>0</td>\n      <td>0</td>\n      <td>...</td>\n      <td>475</td>\n      <td>475</td>\n      <td>478</td>\n      <td>487</td>\n      <td>487</td>\n      <td>490</td>\n      <td>491</td>\n      <td>492</td>\n      <td>493</td>\n      <td>494</td>\n    </tr>\n    <tr>\n      <th>...</th>\n      <td>...</td>\n      <td>...</td>\n      <td>...</td>\n      <td>...</td>\n      <td>...</td>\n      <td>...</td>\n      <td>...</td>\n      <td>...</td>\n      <td>...</td>\n      <td>...</td>\n      <td>...</td>\n      <td>...</td>\n      <td>...</td>\n      <td>...</td>\n      <td>...</td>\n      <td>...</td>\n      <td>...</td>\n      <td>...</td>\n      <td>...</td>\n      <td>...</td>\n      <td>...</td>\n    </tr>\n    <tr>\n      <th>268</th>\n      <td>NaN</td>\n      <td>Vietnam</td>\n      <td>14.058324</td>\n      <td>108.277199</td>\n      <td>0</td>\n      <td>0</td>\n      <td>0</td>\n      <td>0</td>\n      <td>0</td>\n      <td>0</td>\n      <td>...</td>\n      <td>35</td>\n      <td>35</td>\n      <td>35</td>\n      <td>35</td>\n      <td>35</td>\n      <td>35</td>\n      <td>35</td>\n      <td>35</td>\n      <td>35</td>\n      <td>35</td>\n    </tr>\n    <tr>\n      <th>269</th>\n      <td>NaN</td>\n      <td>West Bank and Gaza</td>\n      <td>31.952200</td>\n      <td>35.233200</td>\n      <td>0</td>\n      <td>0</td>\n      <td>0</td>\n      <td>0</td>\n      <td>0</td>\n      <td>0</td>\n      <td>...</td>\n      <td>1881</td>\n      <td>1888</td>\n      <td>1897</td>\n      <td>1909</td>\n      <td>1910</td>\n      <td>1918</td>\n      <td>1930</td>\n      <td>1933</td>\n      <td>1936</td>\n      <td>1942</td>\n    </tr>\n    <tr>\n      <th>270</th>\n      <td>NaN</td>\n      <td>Yemen</td>\n      <td>15.552727</td>\n      <td>48.516388</td>\n      <td>0</td>\n      <td>0</td>\n      <td>0</td>\n      <td>0</td>\n      <td>0</td>\n      <td>0</td>\n      <td>...</td>\n      <td>615</td>\n      <td>615</td>\n      <td>615</td>\n      <td>616</td>\n      <td>616</td>\n      <td>616</td>\n      <td>616</td>\n      <td>617</td>\n      <td>617</td>\n      <td>618</td>\n    </tr>\n    <tr>\n      <th>271</th>\n      <td>NaN</td>\n      <td>Zambia</td>\n      <td>-13.133897</td>\n      <td>27.849332</td>\n      <td>0</td>\n      <td>0</td>\n      <td>0</td>\n      <td>0</td>\n      <td>0</td>\n      <td>0</td>\n      <td>...</td>\n      <td>853</td>\n      <td>869</td>\n      <td>881</td>\n      <td>901</td>\n      <td>914</td>\n      <td>931</td>\n      <td>940</td>\n      <td>951</td>\n      <td>959</td>\n      <td>974</td>\n    </tr>\n    <tr>\n      <th>272</th>\n      <td>NaN</td>\n      <td>Zimbabwe</td>\n      <td>-19.015438</td>\n      <td>29.154857</td>\n      <td>0</td>\n      <td>0</td>\n      <td>0</td>\n      <td>0</td>\n      <td>0</td>\n      <td>0</td>\n      <td>...</td>\n      <td>1326</td>\n      <td>1339</td>\n      <td>1353</td>\n      <td>1364</td>\n      <td>1364</td>\n      <td>1393</td>\n      <td>1398</td>\n      <td>1400</td>\n      <td>1410</td>\n      <td>1414</td>\n    </tr>\n  </tbody>\n</table>\n<p>273 rows × 396 columns</p>\n</div>"
     },
     "execution_count": 3,
     "metadata": {},
     "output_type": "execute_result"
    }
   ],
   "source": [
    "covid_death_data_url = \"https://raw.githubusercontent.com/CSSEGISandData/COVID-19/master/csse_covid_19_data/csse_covid_19_time_series/time_series_covid19_deaths_global.csv\"\n",
    "death_data = pd.read_csv(covid_death_data_url)\n",
    "death_data"
   ],
   "metadata": {
    "collapsed": false,
    "pycharm": {
     "name": "#%%\n"
    }
   }
  },
  {
   "cell_type": "markdown",
   "source": [
    "## Collect Data of selected Countries"
   ],
   "metadata": {
    "collapsed": false,
    "pycharm": {
     "name": "#%% md\n"
    }
   }
  },
  {
   "cell_type": "code",
   "execution_count": 4,
   "outputs": [
    {
     "data": {
      "text/plain": "SelectMultiple(description='Countries:', index=(66,), options=('Afghanistan', 'Albania', 'Algeria', 'Andorra',…",
      "application/vnd.jupyter.widget-view+json": {
       "version_major": 2,
       "version_minor": 0,
       "model_id": "aa4f8bfc260e4afaa96d8afd6ff87d4a"
      }
     },
     "metadata": {},
     "output_type": "display_data"
    },
    {
     "data": {
      "text/plain": "Button(description='Select Data', icon='check', style=ButtonStyle(), tooltip='Click to start selection of data…",
      "application/vnd.jupyter.widget-view+json": {
       "version_major": 2,
       "version_minor": 0,
       "model_id": "6f44d1b1499247c0a19d618f5a40a7ba"
      }
     },
     "metadata": {},
     "output_type": "display_data"
    }
   ],
   "source": [
    "def select_data(data, selected_countries):\n",
    "    days = list(data.columns[4:])\n",
    "    values = {\"Dates\": days}\n",
    "    selected_data = pd.DataFrame(values, columns = [\"Dates\"])\n",
    "    selected_data['Days'] = pd.to_datetime(selected_data['Dates'], format='%m/%d/%y')\n",
    "    selected_data.drop('Dates',axis=1,inplace=True)\n",
    "    vals = data.loc[case_data['Country/Region'].isin(selected_countries)].drop(['Province/State','Long','Lat'],axis='columns')\n",
    "    vals = vals.groupby('Country/Region').sum().transpose()\n",
    "    vals.reset_index(drop=True, inplace=True)\n",
    "    res = pd.concat([selected_data,vals],axis=1)\n",
    "    res.set_index('Days',inplace=True)\n",
    "    return res\n",
    "\n",
    "\n",
    "country_selector = widgets.SelectMultiple(\n",
    "    options=sorted(set(case_data['Country/Region'])),\n",
    "    value=['Germany'],\n",
    "    rows=10,\n",
    "    description='Countries:',\n",
    "    disabled=False\n",
    ")\n",
    "\n",
    "button = widgets.Button(\n",
    "    description='Select Data',\n",
    "    disabled=False,\n",
    "    button_style='', # 'success', 'info', 'warning', 'danger' or ''\n",
    "    tooltip='Click to start selection of data',\n",
    "    icon='check' # (FontAwesome names without the `fa-` prefix)\n",
    ")\n",
    "\n",
    "#selected_countries = {'Germany','Australia'}\n",
    "case_sel_data = 0\n",
    "death_sel_data = 0\n",
    "\n",
    "def start_selection(a):\n",
    "    countries = set(country_selector.value)\n",
    "    global case_sel_data\n",
    "    case_sel_data = select_data(case_data, countries)\n",
    "    global death_sel_data\n",
    "    death_sel_data= select_data(death_data, countries)\n",
    "\n",
    "button.on_click(start_selection)\n",
    "\n",
    "display(country_selector)\n",
    "display(button)"
   ],
   "metadata": {
    "collapsed": false,
    "pycharm": {
     "name": "#%%\n"
    }
   }
  },
  {
   "cell_type": "code",
   "execution_count": 8,
   "outputs": [
    {
     "data": {
      "text/plain": "            Australia  Germany\nDays                          \n2020-01-22          0        0\n2020-01-23          0        0\n2020-01-24          0        0\n2020-01-25          0        0\n2020-01-26          4        0\n...               ...      ...\n2021-02-12      28892  2330422\n2021-02-13      28898  2336906\n2021-02-14      28900  2341744\n2021-02-15      28905  2346876\n2021-02-16      28911  2352766\n\n[392 rows x 2 columns]",
      "text/html": "<div>\n<style scoped>\n    .dataframe tbody tr th:only-of-type {\n        vertical-align: middle;\n    }\n\n    .dataframe tbody tr th {\n        vertical-align: top;\n    }\n\n    .dataframe thead th {\n        text-align: right;\n    }\n</style>\n<table border=\"1\" class=\"dataframe\">\n  <thead>\n    <tr style=\"text-align: right;\">\n      <th></th>\n      <th>Australia</th>\n      <th>Germany</th>\n    </tr>\n    <tr>\n      <th>Days</th>\n      <th></th>\n      <th></th>\n    </tr>\n  </thead>\n  <tbody>\n    <tr>\n      <th>2020-01-22</th>\n      <td>0</td>\n      <td>0</td>\n    </tr>\n    <tr>\n      <th>2020-01-23</th>\n      <td>0</td>\n      <td>0</td>\n    </tr>\n    <tr>\n      <th>2020-01-24</th>\n      <td>0</td>\n      <td>0</td>\n    </tr>\n    <tr>\n      <th>2020-01-25</th>\n      <td>0</td>\n      <td>0</td>\n    </tr>\n    <tr>\n      <th>2020-01-26</th>\n      <td>4</td>\n      <td>0</td>\n    </tr>\n    <tr>\n      <th>...</th>\n      <td>...</td>\n      <td>...</td>\n    </tr>\n    <tr>\n      <th>2021-02-12</th>\n      <td>28892</td>\n      <td>2330422</td>\n    </tr>\n    <tr>\n      <th>2021-02-13</th>\n      <td>28898</td>\n      <td>2336906</td>\n    </tr>\n    <tr>\n      <th>2021-02-14</th>\n      <td>28900</td>\n      <td>2341744</td>\n    </tr>\n    <tr>\n      <th>2021-02-15</th>\n      <td>28905</td>\n      <td>2346876</td>\n    </tr>\n    <tr>\n      <th>2021-02-16</th>\n      <td>28911</td>\n      <td>2352766</td>\n    </tr>\n  </tbody>\n</table>\n<p>392 rows × 2 columns</p>\n</div>"
     },
     "execution_count": 8,
     "metadata": {},
     "output_type": "execute_result"
    }
   ],
   "source": [
    "case_sel_data"
   ],
   "metadata": {
    "collapsed": false,
    "pycharm": {
     "name": "#%%\n"
    }
   }
  },
  {
   "cell_type": "code",
   "execution_count": 9,
   "outputs": [
    {
     "data": {
      "text/plain": "            Australia  Germany\nDays                          \n2020-01-22          0        0\n2020-01-23          0        0\n2020-01-24          0        0\n2020-01-25          0        0\n2020-01-26          0        0\n...               ...      ...\n2021-02-12        909    64771\n2021-02-13        909    64990\n2021-02-14        909    65107\n2021-02-15        909    65288\n2021-02-16        909    65829\n\n[392 rows x 2 columns]",
      "text/html": "<div>\n<style scoped>\n    .dataframe tbody tr th:only-of-type {\n        vertical-align: middle;\n    }\n\n    .dataframe tbody tr th {\n        vertical-align: top;\n    }\n\n    .dataframe thead th {\n        text-align: right;\n    }\n</style>\n<table border=\"1\" class=\"dataframe\">\n  <thead>\n    <tr style=\"text-align: right;\">\n      <th></th>\n      <th>Australia</th>\n      <th>Germany</th>\n    </tr>\n    <tr>\n      <th>Days</th>\n      <th></th>\n      <th></th>\n    </tr>\n  </thead>\n  <tbody>\n    <tr>\n      <th>2020-01-22</th>\n      <td>0</td>\n      <td>0</td>\n    </tr>\n    <tr>\n      <th>2020-01-23</th>\n      <td>0</td>\n      <td>0</td>\n    </tr>\n    <tr>\n      <th>2020-01-24</th>\n      <td>0</td>\n      <td>0</td>\n    </tr>\n    <tr>\n      <th>2020-01-25</th>\n      <td>0</td>\n      <td>0</td>\n    </tr>\n    <tr>\n      <th>2020-01-26</th>\n      <td>0</td>\n      <td>0</td>\n    </tr>\n    <tr>\n      <th>...</th>\n      <td>...</td>\n      <td>...</td>\n    </tr>\n    <tr>\n      <th>2021-02-12</th>\n      <td>909</td>\n      <td>64771</td>\n    </tr>\n    <tr>\n      <th>2021-02-13</th>\n      <td>909</td>\n      <td>64990</td>\n    </tr>\n    <tr>\n      <th>2021-02-14</th>\n      <td>909</td>\n      <td>65107</td>\n    </tr>\n    <tr>\n      <th>2021-02-15</th>\n      <td>909</td>\n      <td>65288</td>\n    </tr>\n    <tr>\n      <th>2021-02-16</th>\n      <td>909</td>\n      <td>65829</td>\n    </tr>\n  </tbody>\n</table>\n<p>392 rows × 2 columns</p>\n</div>"
     },
     "execution_count": 9,
     "metadata": {},
     "output_type": "execute_result"
    }
   ],
   "source": [
    "death_sel_data"
   ],
   "metadata": {
    "collapsed": false,
    "pycharm": {
     "name": "#%%\n"
    }
   }
  },
  {
   "cell_type": "markdown",
   "source": [
    "## Plot the selected Data"
   ],
   "metadata": {
    "collapsed": false,
    "pycharm": {
     "name": "#%% md\n"
    }
   }
  },
  {
   "cell_type": "code",
   "execution_count": null,
   "outputs": [],
   "source": [
    "def plot_selected_time_range(date_range):\n",
    "    start,end = date_range\n",
    "    sub = case_sel_data[start:end]\n",
    "    fig, ax =plt.subplots(2,1)\n",
    "    sns.lineplot(data = sub, dashes=False,ax=ax[0])\n",
    "    sns.lineplot(data = sub.diff(), dashes=False,ax=ax[1])\n",
    "    fig.suptitle(\"Covid19 Cases\")\n",
    "    fig.show()\n",
    "\n",
    "options = [(i.strftime(' %d %b %y '), i) for i in case_sel_data.index]\n",
    "slider = widgets.SelectionRangeSlider(\n",
    "    options=options,\n",
    "    index=(0, len(case_sel_data.index)-1),\n",
    "    description='Range:',\n",
    "    disabled=False\n",
    ")\n",
    "\n",
    "widgets.interactive(plot_selected_time_range, date_range = slider)"
   ],
   "metadata": {
    "collapsed": false,
    "pycharm": {
     "name": "#%%\n"
    }
   }
  },
  {
   "cell_type": "code",
   "execution_count": 11,
   "outputs": [
    {
     "data": {
      "text/plain": "interactive(children=(SelectionRangeSlider(description='Range:', index=(0, 391), options=((' 22 Jan 20 ', Time…",
      "application/vnd.jupyter.widget-view+json": {
       "version_major": 2,
       "version_minor": 0,
       "model_id": "6558f034d4a0429b9a1e2368b7598713"
      }
     },
     "metadata": {},
     "output_type": "display_data"
    }
   ],
   "source": [
    "def plot_selected_time_range(date_range):\n",
    "    start,end = date_range\n",
    "    sub = death_sel_data[start:end]\n",
    "    fig, ax =plt.subplots(2,1)\n",
    "    sns.lineplot(data = sub, dashes=False,ax=ax[0])\n",
    "    sns.lineplot(data = sub.diff(), dashes=False,ax=ax[1])\n",
    "    fig.suptitle(\"Covid19 Death Rates\")\n",
    "    fig.show()\n",
    "\n",
    "options = [(i.strftime(' %d %b %y '), i) for i in death_sel_data.index]\n",
    "slider = widgets.SelectionRangeSlider(\n",
    "    options=options,\n",
    "    index=(0, len(death_sel_data.index)-1),\n",
    "    description='Range:',\n",
    "    disabled=False\n",
    ")\n",
    "\n",
    "widgets.interactive(plot_selected_time_range, date_range = slider)"
   ],
   "metadata": {
    "collapsed": false,
    "pycharm": {
     "name": "#%%\n"
    }
   }
  },
  {
   "cell_type": "markdown",
   "source": [
    "## Save the Data of the last Day for selected Countries"
   ],
   "metadata": {
    "collapsed": false,
    "pycharm": {
     "name": "#%% md\n"
    }
   }
  },
  {
   "cell_type": "code",
   "execution_count": null,
   "outputs": [],
   "source": [
    "def save_last_day_data(path, kind, data):\n",
    "    last_day = data.index[-1].strftime('%d-%b-%Y')\n",
    "    last_day_data_dict =  {\n",
    "        f'Cum {last_day}': data.iloc[-1],\n",
    "        f'Diff {last_day}': data.diff().iloc[-1]\n",
    "    }\n",
    "    last_day_data = pd.DataFrame(last_day_data_dict)\n",
    "    writer = pd.ExcelWriter(f'{path}/Covid19_Data_{kind}_{last_day}.xlsx', engine='openpyxl')\n",
    "    last_day_data.to_excel(writer, sheet_name='Sheet1')\n",
    "    writer.save()\n",
    "\n",
    "path = input(\"Path to save the File (C:/path/to/target/folder):\")\n",
    "if path != '':\n",
    "    save_last_day_data(path, \"Cases\", case_sel_data)\n",
    "    save_last_day_data(path, \"Deaths\", death_sel_data)"
   ],
   "metadata": {
    "collapsed": false,
    "pycharm": {
     "name": "#%%\n"
    }
   }
  }
 ],
 "metadata": {
  "kernelspec": {
   "name": "pycharm-bd365e50",
   "language": "python",
   "display_name": "PyCharm (Covid19Statistik)"
  },
  "language_info": {
   "codemirror_mode": {
    "name": "ipython",
    "version": 2
   },
   "file_extension": ".py",
   "mimetype": "text/x-python",
   "name": "python",
   "nbconvert_exporter": "python",
   "pygments_lexer": "ipython2",
   "version": "2.7.6"
  }
 },
 "nbformat": 4,
 "nbformat_minor": 0
}